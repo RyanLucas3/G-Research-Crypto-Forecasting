{
 "cells": [
  {
   "cell_type": "code",
   "execution_count": 1,
   "source": [
    "from pandas import read_csv as rc\n",
    "from pandas import DataFrame as df\n",
    "from tqdm import tqdm\n",
    "import numpy as np\n",
    "import pandas as pd\n",
    "from statsmodels.tsa.stattools import adfuller\n",
    "from datetime import datetime\n",
    "import matplotlib.pyplot as plt\n",
    "from statsmodels.graphics.tsaplots import plot_acf\n",
    "from statsmodels.graphics.tsaplots import plot_pacf\n",
    "from pmdarima.arima import auto_arima\n",
    "from feature_calculations import *\n",
    "import statsmodels.api as sm\n",
    "from statsmodels.tsa.arima.model import ARIMA\n",
    "from scipy.stats import pearsonr"
   ],
   "outputs": [],
   "metadata": {}
  },
  {
   "cell_type": "code",
   "execution_count": 2,
   "source": [
    "df_dict = {}\n",
    "\n",
    "for asset_id in range(0, 14):\n",
    "    df_dict[f'Asset_{asset_id}'] = rc(f\"/Users/ryanlucas/Desktop/G-Research/Data/Asset-{asset_id}.csv\")\n"
   ],
   "outputs": [],
   "metadata": {}
  },
  {
   "cell_type": "code",
   "execution_count": 3,
   "source": [
    "features_dict = {}\n",
    "\n",
    "for asset_id in tqdm(range(0, 14):\n",
    "    features_dict[f'Asset_{asset_id}'] = rc(f\"/Users/ryanlucas/Desktop/G-Research/Data/Asset-{asset_id}_features.csv\")"
   ],
   "outputs": [],
   "metadata": {}
  },
  {
   "cell_type": "code",
   "execution_count": null,
   "source": [
    "def train_and_forecast_AR1(data, ar_order= 1):\n",
    "\n",
    "    model = ARIMA(data, order=(\n",
    "        ar_order, 0, 0)).fit(method=\"yule_walker\")\n",
    "\n",
    "    forecasts = model.forecast(1)\n",
    "\n",
    "    return forecasts\n",
    "    "
   ],
   "outputs": [],
   "metadata": {}
  },
  {
   "cell_type": "code",
   "execution_count": null,
   "source": [
    "def train_and_forecast_SARIMA(data):\n",
    "    model = sm.tsa.statespace.SARIMAX(data, trend='n', order=(1,0,0), seasonal_order=(0,1,0,16)).fit()\n",
    "    return model.forecast(1)\n",
    "    "
   ],
   "outputs": [],
   "metadata": {}
  },
  {
   "cell_type": "code",
   "execution_count": null,
   "source": [
    "def cross_validate(data, step_size, window_size, forecast_func = train_and_forecast_AR1):\n",
    "    forecasts = []\n",
    "    actual_values = []\n",
    "    for integer_position in tqdm(range(0, len(data)-window_size, step_size), position = 0, leave = True):\n",
    "                        \n",
    "        train_data = data.iloc[integer_position: integer_position+window_size]\n",
    "\n",
    "        forecasts.append(float(forecast_func(train_data)))\n",
    "        actual_value = data.iloc[integer_position+window_size+1]\n",
    "        actual_values.append(float(actual_value))\n",
    "\n",
    "    correlation, _ = pearsonr(forecasts, actual_values) \n",
    "    return correlation"
   ],
   "outputs": [],
   "metadata": {}
  },
  {
   "cell_type": "code",
   "execution_count": null,
   "source": [
    "window_sizes = [2000, 3000, 5000, 10000, 20000, 40000, 100000, 500000]\n",
    "correlation_df = df()\n",
    "for asset_id in range(0, 14):\n",
    "    window_size_dict = {}\n",
    "    for window_size in window_sizes:\n",
    "        correlation = cross_validate(df_dict[f'Asset_{asset_id}'][\"Target\"].fillna(method = 'bfill').fillna(method = 'ffill'),10000, window_size)\n",
    "        window_size_dict[window_size] = correlation\n",
    "        correlation_df[f\"Asset_{asset_id}\"] = window_size_dict.values()"
   ],
   "outputs": [
    {
     "output_type": "stream",
     "name": "stderr",
     "text": [
      "  0%|          | 0/196 [00:00<?, ?it/s]/Users/ryanlucas/opt/anaconda3/lib/python3.8/site-packages/statsmodels/tsa/arima/model.py:374: UserWarning: Provided `endog` series has been differenced to eliminate integration prior to parameter estimation by method \"yule_walker\".\n",
      "  warnings.warn('Provided `endog` series has been differenced'\n",
      "100%|██████████| 196/196 [00:07<00:00, 25.51it/s]\n",
      "100%|██████████| 196/196 [00:09<00:00, 20.26it/s]\n",
      "100%|██████████| 196/196 [00:14<00:00, 13.63it/s]\n",
      "100%|██████████| 195/195 [00:26<00:00,  7.29it/s]\n",
      "100%|██████████| 194/194 [00:48<00:00,  4.04it/s]\n",
      "100%|██████████| 192/192 [01:42<00:00,  1.87it/s]\n",
      "100%|██████████| 186/186 [03:58<00:00,  1.28s/it]\n",
      "100%|██████████| 146/146 [16:33<00:00,  6.81s/it]\n"
     ]
    }
   ],
   "metadata": {}
  }
 ],
 "metadata": {
  "orig_nbformat": 4,
  "language_info": {
   "name": "python",
   "version": "3.8.8",
   "mimetype": "text/x-python",
   "codemirror_mode": {
    "name": "ipython",
    "version": 3
   },
   "pygments_lexer": "ipython3",
   "nbconvert_exporter": "python",
   "file_extension": ".py"
  },
  "kernelspec": {
   "name": "python3",
   "display_name": "Python 3.8.8 64-bit ('base': conda)"
  },
  "interpreter": {
   "hash": "4e7a58de4b7e505b0e82f0adcc21bb9621f61c2c1c0bdf66b0394a18a0c298a7"
  }
 },
 "nbformat": 4,
 "nbformat_minor": 2
}