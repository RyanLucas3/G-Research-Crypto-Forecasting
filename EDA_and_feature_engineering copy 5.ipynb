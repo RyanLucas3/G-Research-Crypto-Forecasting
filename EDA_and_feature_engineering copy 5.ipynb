{
 "cells": [
  {
   "cell_type": "code",
   "execution_count": 58,
   "source": [
    "from pandas import read_csv as rc\n",
    "from pandas import DataFrame as df\n",
    "from tqdm import tqdm\n",
    "import numpy as np\n",
    "import pandas as pd\n",
    "from statsmodels.tsa.stattools import adfuller\n",
    "from datetime import datetime\n",
    "import matplotlib.pyplot as plt\n",
    "from statsmodels.graphics.tsaplots import plot_acf\n",
    "from statsmodels.graphics.tsaplots import plot_pacf\n",
    "from pmdarima.arima import auto_arima\n",
    "from feature_calculations import *\n",
    "from statsmodels.tsa.arima.model import ARIMA\n",
    "import math"
   ],
   "outputs": [],
   "metadata": {}
  },
  {
   "cell_type": "code",
   "execution_count": 71,
   "source": [
    "df_dict = {}\n",
    "\n",
    "for asset_id in range(0, 14):\n",
    "    df_dict[f'Asset_{asset_id}'] = rc(f\"/Users/ryanlucas/Desktop/G-Research/Data/Asset-{asset_id}.csv\")\n"
   ],
   "outputs": [],
   "metadata": {}
  },
  {
   "cell_type": "code",
   "execution_count": 70,
   "source": [
    "features_dict = {}\n",
    "\n",
    "for asset_id in range(0,14):\n",
    "    features_dict[f'Asset_{asset_id}'] = rc(f\"/Users/ryanlucas/Desktop/G-Research/Data/Asset-{asset_id}_features.csv\")"
   ],
   "outputs": [],
   "metadata": {}
  },
  {
   "cell_type": "code",
   "execution_count": 15,
   "source": [
    "minutes_in_day = 2880\n",
    "\n",
    "hour_sin = np.sin(2*np.pi*df_dict['Asset_1']['timestamp']/minutes_in_day)"
   ],
   "outputs": [],
   "metadata": {}
  },
  {
   "cell_type": "code",
   "execution_count": 68,
   "source": [
    "def time_delta_minutes(data):\n",
    "    current_time = pd.to_datetime(datetime.utcfromtimestamp(data))\n",
    "    start_of_day = pd.to_datetime(current_time.strftime('%Y-%m-%d'))\n",
    "    difference_seconds = (current_time - start_of_day).total_seconds()\n",
    "    return difference_seconds/60\n"
   ],
   "outputs": [],
   "metadata": {}
  },
  {
   "cell_type": "code",
   "execution_count": 72,
   "source": [
    "for asset_id in tqdm(range(0, 14), position = 0, leave = True):\n",
    "    minutes_elapsed = []\n",
    "    minutes = df_dict[f'Asset_{asset_id}']['timestamp'].apply(time_delta_minutes)\n",
    "    x_norm = 2 * math.pi * minutes/ minutes.max()\n",
    "    features_dict[f'Asset_{asset_id}']['sin_time'] = np.sin(x_norm)\n",
    "    features_dict[f'Asset_{asset_id}']['cos_time'] = np.cos(x_norm)"
   ],
   "outputs": [
    {
     "output_type": "stream",
     "name": "stderr",
     "text": [
      " 50%|█████     | 7/14 [1:03:57<1:03:28, 544.06s/it]"
     ]
    }
   ],
   "metadata": {}
  }
 ],
 "metadata": {
  "orig_nbformat": 4,
  "language_info": {
   "name": "python",
   "version": "3.8.8",
   "mimetype": "text/x-python",
   "codemirror_mode": {
    "name": "ipython",
    "version": 3
   },
   "pygments_lexer": "ipython3",
   "nbconvert_exporter": "python",
   "file_extension": ".py"
  },
  "kernelspec": {
   "name": "python3",
   "display_name": "Python 3.8.8 64-bit ('base': conda)"
  },
  "interpreter": {
   "hash": "4e7a58de4b7e505b0e82f0adcc21bb9621f61c2c1c0bdf66b0394a18a0c298a7"
  }
 },
 "nbformat": 4,
 "nbformat_minor": 2
}