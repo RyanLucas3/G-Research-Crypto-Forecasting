{
 "cells": [
  {
   "cell_type": "code",
   "execution_count": 35,
   "source": [
    "from pandas import read_csv as rc\n",
    "from pandas import DataFrame as df\n",
    "from tqdm import tqdm\n",
    "import numpy as np\n",
    "import pandas as pd\n",
    "from statsmodels.tsa.stattools import adfuller\n",
    "from datetime import datetime\n",
    "import matplotlib.pyplot as plt\n",
    "from statsmodels.graphics.tsaplots import plot_acf\n",
    "from statsmodels.graphics.tsaplots import plot_pacf\n",
    "from pmdarima.arima import auto_arima\n",
    "from feature_calculations import *"
   ],
   "outputs": [],
   "metadata": {}
  },
  {
   "cell_type": "code",
   "execution_count": 36,
   "source": [
    "df_dict = {}\n",
    "\n",
    "for asset_id in range(1, 14):\n",
    "    df_dict[f'Asset_{asset_id}'] = rc(f\"/Users/ryanlucas/Desktop/G-Research/Data/Asset-{asset_id}.csv\")\n"
   ],
   "outputs": [],
   "metadata": {}
  },
  {
   "cell_type": "code",
   "execution_count": 39,
   "source": [
    "features_dict = {}\n",
    "\n",
    "for asset_id in range(1, 14):\n",
    "    features_dict[f'Asset_{asset_id}'] = rc(f\"/Users/ryanlucas/Desktop/G-Research/Data/Asset-{asset_id}_features.csv\")\n",
    "    for p_type in ['Open', \"Close\", \"High\", \"Low\"]:\n",
    "        features_dict[f'Asset_{asset_id}'][p_type] = df_dict[f'Asset_{asset_id}'][p_type]"
   ],
   "outputs": [],
   "metadata": {}
  },
  {
   "cell_type": "code",
   "execution_count": 40,
   "source": [
    "for asset_id in tqdm(range(1, 14), position = 0, leave = True):\n",
    "    n = 15\n",
    "    nK = 5\n",
    "    nD = 7\n",
    "    n_fast = 5\n",
    "    n_slow = 10\n",
    "\n",
    "    df = features_dict[f'Asset_{asset_id}']\n",
    "\n",
    "    df = MA(df, n)\n",
    "    df = EMA(df, n)\n",
    "    df = MOM(df, n)\n",
    "    df = STOK(df)\n",
    "    df = STO(df,  nK, nD, nS=1)\n",
    "    df = MACD(df, n_fast, n_slow)"
   ],
   "outputs": [
    {
     "output_type": "stream",
     "name": "stderr",
     "text": [
      "100%|██████████| 13/13 [00:09<00:00,  1.42it/s]\n"
     ]
    }
   ],
   "metadata": {}
  },
  {
   "cell_type": "code",
   "execution_count": 41,
   "source": [
    "for asset_id in range(1, 14):\n",
    "    features_dict[f'Asset_{asset_id}'].to_csv(f\"/Users/ryanlucas/Desktop/G-Research/Data/Asset-{asset_id}_features.csv\")"
   ],
   "outputs": [],
   "metadata": {}
  },
  {
   "cell_type": "code",
   "execution_count": 42,
   "source": [
    "features_dict.keys()"
   ],
   "outputs": [
    {
     "output_type": "execute_result",
     "data": {
      "text/plain": [
       "dict_keys(['Asset_1', 'Asset_2', 'Asset_3', 'Asset_4', 'Asset_5', 'Asset_6', 'Asset_7', 'Asset_8', 'Asset_9', 'Asset_10', 'Asset_11', 'Asset_12', 'Asset_13'])"
      ]
     },
     "metadata": {},
     "execution_count": 42
    }
   ],
   "metadata": {}
  }
 ],
 "metadata": {
  "orig_nbformat": 4,
  "language_info": {
   "name": "python",
   "version": "3.8.8",
   "mimetype": "text/x-python",
   "codemirror_mode": {
    "name": "ipython",
    "version": 3
   },
   "pygments_lexer": "ipython3",
   "nbconvert_exporter": "python",
   "file_extension": ".py"
  },
  "kernelspec": {
   "name": "python3",
   "display_name": "Python 3.8.8 64-bit ('base': conda)"
  },
  "interpreter": {
   "hash": "4e7a58de4b7e505b0e82f0adcc21bb9621f61c2c1c0bdf66b0394a18a0c298a7"
  }
 },
 "nbformat": 4,
 "nbformat_minor": 2
}