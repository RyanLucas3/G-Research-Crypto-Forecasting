{
 "cells": [
  {
   "cell_type": "code",
   "execution_count": null,
   "source": [
    "from pandas import read_csv as rc\n",
    "from pandas import DataFrame as df\n",
    "from tqdm import tqdm\n",
    "import numpy as np\n",
    "import pandas as pd\n",
    "from statsmodels.tsa.stattools import adfuller\n",
    "from datetime import datetime"
   ],
   "outputs": [
    {
     "output_type": "error",
     "ename": "Error",
     "evalue": "Session cannot generate requests",
     "traceback": [
      "Error: Session cannot generate requests",
      "at w.executeCodeCell (/Users/ryanlucas/.vscode/extensions/ms-toolsai.jupyter-2021.8.2041215044/out/client/extension.js:52:301310)",
      "at w.execute (/Users/ryanlucas/.vscode/extensions/ms-toolsai.jupyter-2021.8.2041215044/out/client/extension.js:52:300703)",
      "at w.start (/Users/ryanlucas/.vscode/extensions/ms-toolsai.jupyter-2021.8.2041215044/out/client/extension.js:52:296367)",
      "at runMicrotasks (<anonymous>)",
      "at processTicksAndRejections (internal/process/task_queues.js:93:5)",
      "at async t.CellExecutionQueue.executeQueuedCells (/Users/ryanlucas/.vscode/extensions/ms-toolsai.jupyter-2021.8.2041215044/out/client/extension.js:52:311160)",
      "at async t.CellExecutionQueue.start (/Users/ryanlucas/.vscode/extensions/ms-toolsai.jupyter-2021.8.2041215044/out/client/extension.js:52:310700)"
     ]
    }
   ],
   "metadata": {}
  },
  {
   "cell_type": "code",
   "execution_count": null,
   "source": [
    "df_dict = {}\n",
    "\n",
    "for asset_id in range(1, 14):\n",
    "    df_dict[f'Asset_{asset_id}'] = rc(f\"/Users/ryanlucas/Desktop/G-Research/Data/Asset-{asset_id}.csv\")\n"
   ],
   "outputs": [],
   "metadata": {}
  },
  {
   "cell_type": "code",
   "execution_count": null,
   "source": [
    "features_dict = {}\n",
    "\n",
    "for asset_id in range(1, 14):\n",
    "    features_dict[f'Asset_{asset_id}'] = rc(f\"/Users/ryanlucas/Desktop/G-Research/Data/Asset-{asset_id}_features.csv\")"
   ],
   "outputs": [],
   "metadata": {}
  },
  {
   "cell_type": "code",
   "execution_count": null,
   "source": [
    "df_dict[f'Asset_1'].describe().iloc[:, 1:].round(2).to_latex(\"/Users/ryanlucas/Desktop/feature_desc.txt\")"
   ],
   "outputs": [],
   "metadata": {}
  },
  {
   "cell_type": "code",
   "execution_count": null,
   "source": [
    "avg_ticks_per_min = []\n",
    "\n",
    "for asset_id in range(1, 14):\n",
    "    avg_ticks_per_min.append(df_dict[f\"Asset_{asset_id}\"][f'A{asset_id}_Count'].mean())"
   ],
   "outputs": [],
   "metadata": {}
  },
  {
   "cell_type": "code",
   "execution_count": null,
   "source": [
    "df_dict['Asset_1']"
   ],
   "outputs": [
    {
     "output_type": "execute_result",
     "data": {
      "text/html": [
       "<div>\n",
       "<style scoped>\n",
       "    .dataframe tbody tr th:only-of-type {\n",
       "        vertical-align: middle;\n",
       "    }\n",
       "\n",
       "    .dataframe tbody tr th {\n",
       "        vertical-align: top;\n",
       "    }\n",
       "\n",
       "    .dataframe thead th {\n",
       "        text-align: right;\n",
       "    }\n",
       "</style>\n",
       "<table border=\"1\" class=\"dataframe\">\n",
       "  <thead>\n",
       "    <tr style=\"text-align: right;\">\n",
       "      <th></th>\n",
       "      <th>A1_timestamp</th>\n",
       "      <th>A1_Count</th>\n",
       "      <th>A1_Open</th>\n",
       "      <th>A1_High</th>\n",
       "      <th>A1_Low</th>\n",
       "      <th>A1_Close</th>\n",
       "      <th>A1_Volume</th>\n",
       "      <th>A1_VWAP</th>\n",
       "      <th>A1_Target</th>\n",
       "    </tr>\n",
       "  </thead>\n",
       "  <tbody>\n",
       "    <tr>\n",
       "      <th>0</th>\n",
       "      <td>1514764860</td>\n",
       "      <td>229</td>\n",
       "      <td>13835.194000</td>\n",
       "      <td>14013.800000</td>\n",
       "      <td>13666.11</td>\n",
       "      <td>13850.176000</td>\n",
       "      <td>31.550062</td>\n",
       "      <td>13827.062090</td>\n",
       "      <td>-0.014643</td>\n",
       "    </tr>\n",
       "    <tr>\n",
       "      <th>1</th>\n",
       "      <td>1514764920</td>\n",
       "      <td>235</td>\n",
       "      <td>13835.036000</td>\n",
       "      <td>14052.300000</td>\n",
       "      <td>13680.00</td>\n",
       "      <td>13828.102000</td>\n",
       "      <td>31.046432</td>\n",
       "      <td>13840.362590</td>\n",
       "      <td>-0.015037</td>\n",
       "    </tr>\n",
       "    <tr>\n",
       "      <th>2</th>\n",
       "      <td>1514764980</td>\n",
       "      <td>528</td>\n",
       "      <td>13823.900000</td>\n",
       "      <td>14000.400000</td>\n",
       "      <td>13601.00</td>\n",
       "      <td>13801.314000</td>\n",
       "      <td>55.061820</td>\n",
       "      <td>13806.068010</td>\n",
       "      <td>-0.010309</td>\n",
       "    </tr>\n",
       "    <tr>\n",
       "      <th>3</th>\n",
       "      <td>1514765040</td>\n",
       "      <td>435</td>\n",
       "      <td>13802.512000</td>\n",
       "      <td>13999.000000</td>\n",
       "      <td>13576.28</td>\n",
       "      <td>13768.040000</td>\n",
       "      <td>38.780529</td>\n",
       "      <td>13783.598100</td>\n",
       "      <td>-0.008999</td>\n",
       "    </tr>\n",
       "    <tr>\n",
       "      <th>4</th>\n",
       "      <td>1514765100</td>\n",
       "      <td>742</td>\n",
       "      <td>13766.000000</td>\n",
       "      <td>13955.900000</td>\n",
       "      <td>13554.44</td>\n",
       "      <td>13724.914000</td>\n",
       "      <td>108.501637</td>\n",
       "      <td>13735.586840</td>\n",
       "      <td>-0.008079</td>\n",
       "    </tr>\n",
       "    <tr>\n",
       "      <th>...</th>\n",
       "      <td>...</td>\n",
       "      <td>...</td>\n",
       "      <td>...</td>\n",
       "      <td>...</td>\n",
       "      <td>...</td>\n",
       "      <td>...</td>\n",
       "      <td>...</td>\n",
       "      <td>...</td>\n",
       "      <td>...</td>\n",
       "    </tr>\n",
       "    <tr>\n",
       "      <th>1048570</th>\n",
       "      <td>1577717580</td>\n",
       "      <td>295</td>\n",
       "      <td>7302.598468</td>\n",
       "      <td>7328.900000</td>\n",
       "      <td>7285.75</td>\n",
       "      <td>7303.691429</td>\n",
       "      <td>22.233366</td>\n",
       "      <td>7303.223206</td>\n",
       "      <td>0.001353</td>\n",
       "    </tr>\n",
       "    <tr>\n",
       "      <th>1048571</th>\n",
       "      <td>1577717640</td>\n",
       "      <td>524</td>\n",
       "      <td>7306.661622</td>\n",
       "      <td>7329.000000</td>\n",
       "      <td>7286.00</td>\n",
       "      <td>7305.963333</td>\n",
       "      <td>82.874426</td>\n",
       "      <td>7306.388316</td>\n",
       "      <td>0.001732</td>\n",
       "    </tr>\n",
       "    <tr>\n",
       "      <th>1048572</th>\n",
       "      <td>1577717700</td>\n",
       "      <td>335</td>\n",
       "      <td>7303.397104</td>\n",
       "      <td>7329.000000</td>\n",
       "      <td>7286.00</td>\n",
       "      <td>7303.920000</td>\n",
       "      <td>34.950544</td>\n",
       "      <td>7303.383504</td>\n",
       "      <td>0.000479</td>\n",
       "    </tr>\n",
       "    <tr>\n",
       "      <th>1048573</th>\n",
       "      <td>1577717760</td>\n",
       "      <td>744</td>\n",
       "      <td>7307.206667</td>\n",
       "      <td>7329.000000</td>\n",
       "      <td>7281.01</td>\n",
       "      <td>7301.865683</td>\n",
       "      <td>74.361918</td>\n",
       "      <td>7304.364645</td>\n",
       "      <td>0.000974</td>\n",
       "    </tr>\n",
       "    <tr>\n",
       "      <th>1048574</th>\n",
       "      <td>1577717820</td>\n",
       "      <td>418</td>\n",
       "      <td>7299.977104</td>\n",
       "      <td>7328.999731</td>\n",
       "      <td>7281.01</td>\n",
       "      <td>7303.470000</td>\n",
       "      <td>43.235221</td>\n",
       "      <td>7301.830836</td>\n",
       "      <td>0.001254</td>\n",
       "    </tr>\n",
       "  </tbody>\n",
       "</table>\n",
       "<p>1048575 rows × 9 columns</p>\n",
       "</div>"
      ],
      "text/plain": [
       "         A1_timestamp  A1_Count       A1_Open       A1_High    A1_Low  \\\n",
       "0          1514764860       229  13835.194000  14013.800000  13666.11   \n",
       "1          1514764920       235  13835.036000  14052.300000  13680.00   \n",
       "2          1514764980       528  13823.900000  14000.400000  13601.00   \n",
       "3          1514765040       435  13802.512000  13999.000000  13576.28   \n",
       "4          1514765100       742  13766.000000  13955.900000  13554.44   \n",
       "...               ...       ...           ...           ...       ...   \n",
       "1048570    1577717580       295   7302.598468   7328.900000   7285.75   \n",
       "1048571    1577717640       524   7306.661622   7329.000000   7286.00   \n",
       "1048572    1577717700       335   7303.397104   7329.000000   7286.00   \n",
       "1048573    1577717760       744   7307.206667   7329.000000   7281.01   \n",
       "1048574    1577717820       418   7299.977104   7328.999731   7281.01   \n",
       "\n",
       "             A1_Close   A1_Volume       A1_VWAP  A1_Target  \n",
       "0        13850.176000   31.550062  13827.062090  -0.014643  \n",
       "1        13828.102000   31.046432  13840.362590  -0.015037  \n",
       "2        13801.314000   55.061820  13806.068010  -0.010309  \n",
       "3        13768.040000   38.780529  13783.598100  -0.008999  \n",
       "4        13724.914000  108.501637  13735.586840  -0.008079  \n",
       "...               ...         ...           ...        ...  \n",
       "1048570   7303.691429   22.233366   7303.223206   0.001353  \n",
       "1048571   7305.963333   82.874426   7306.388316   0.001732  \n",
       "1048572   7303.920000   34.950544   7303.383504   0.000479  \n",
       "1048573   7301.865683   74.361918   7304.364645   0.000974  \n",
       "1048574   7303.470000   43.235221   7301.830836   0.001254  \n",
       "\n",
       "[1048575 rows x 9 columns]"
      ]
     },
     "metadata": {},
     "execution_count": 13
    }
   ],
   "metadata": {}
  },
  {
   "cell_type": "code",
   "execution_count": null,
   "source": [
    "time_stamp_func = lambda x: datetime.utcfromtimestamp(x).strftime('%Y-%m-%d %H:%M:%S')"
   ],
   "outputs": [
    {
     "output_type": "error",
     "ename": "Error",
     "evalue": "Session cannot generate requests",
     "traceback": [
      "Error: Session cannot generate requests",
      "at w.executeCodeCell (/Users/ryanlucas/.vscode/extensions/ms-toolsai.jupyter-2021.8.2041215044/out/client/extension.js:52:301310)",
      "at w.execute (/Users/ryanlucas/.vscode/extensions/ms-toolsai.jupyter-2021.8.2041215044/out/client/extension.js:52:300703)",
      "at w.start (/Users/ryanlucas/.vscode/extensions/ms-toolsai.jupyter-2021.8.2041215044/out/client/extension.js:52:296367)",
      "at runMicrotasks (<anonymous>)",
      "at processTicksAndRejections (internal/process/task_queues.js:93:5)",
      "at async t.CellExecutionQueue.executeQueuedCells (/Users/ryanlucas/.vscode/extensions/ms-toolsai.jupyter-2021.8.2041215044/out/client/extension.js:52:311160)",
      "at async t.CellExecutionQueue.start (/Users/ryanlucas/.vscode/extensions/ms-toolsai.jupyter-2021.8.2041215044/out/client/extension.js:52:310700)"
     ]
    }
   ],
   "metadata": {}
  },
  {
   "cell_type": "code",
   "execution_count": null,
   "source": [
    "real_dates = time_stamp_func(df_dict['Asset_1']['A1_timestamp'])"
   ],
   "outputs": [
    {
     "output_type": "error",
     "ename": "Error",
     "evalue": "Session cannot generate requests",
     "traceback": [
      "Error: Session cannot generate requests",
      "at w.executeCodeCell (/Users/ryanlucas/.vscode/extensions/ms-toolsai.jupyter-2021.8.2041215044/out/client/extension.js:52:301310)",
      "at w.execute (/Users/ryanlucas/.vscode/extensions/ms-toolsai.jupyter-2021.8.2041215044/out/client/extension.js:52:300703)",
      "at w.start (/Users/ryanlucas/.vscode/extensions/ms-toolsai.jupyter-2021.8.2041215044/out/client/extension.js:52:296367)",
      "at runMicrotasks (<anonymous>)",
      "at processTicksAndRejections (internal/process/task_queues.js:93:5)",
      "at async t.CellExecutionQueue.executeQueuedCells (/Users/ryanlucas/.vscode/extensions/ms-toolsai.jupyter-2021.8.2041215044/out/client/extension.js:52:311160)",
      "at async t.CellExecutionQueue.start (/Users/ryanlucas/.vscode/extensions/ms-toolsai.jupyter-2021.8.2041215044/out/client/extension.js:52:310700)"
     ]
    }
   ],
   "metadata": {}
  },
  {
   "cell_type": "code",
   "execution_count": null,
   "source": [],
   "outputs": [],
   "metadata": {}
  },
  {
   "cell_type": "code",
   "execution_count": null,
   "source": [
    "df(avg_ticks_per_min).transpose()"
   ],
   "outputs": [
    {
     "output_type": "execute_result",
     "data": {
      "text/html": [
       "<div>\n",
       "<style scoped>\n",
       "    .dataframe tbody tr th:only-of-type {\n",
       "        vertical-align: middle;\n",
       "    }\n",
       "\n",
       "    .dataframe tbody tr th {\n",
       "        vertical-align: top;\n",
       "    }\n",
       "\n",
       "    .dataframe thead th {\n",
       "        text-align: right;\n",
       "    }\n",
       "</style>\n",
       "<table border=\"1\" class=\"dataframe\">\n",
       "  <thead>\n",
       "    <tr style=\"text-align: right;\">\n",
       "      <th></th>\n",
       "      <th>0</th>\n",
       "      <th>1</th>\n",
       "      <th>2</th>\n",
       "      <th>3</th>\n",
       "      <th>4</th>\n",
       "      <th>5</th>\n",
       "      <th>6</th>\n",
       "      <th>7</th>\n",
       "      <th>8</th>\n",
       "      <th>9</th>\n",
       "      <th>10</th>\n",
       "      <th>11</th>\n",
       "      <th>12</th>\n",
       "    </tr>\n",
       "  </thead>\n",
       "  <tbody>\n",
       "    <tr>\n",
       "      <th>0</th>\n",
       "      <td>465.040569</td>\n",
       "      <td>153.560135</td>\n",
       "      <td>239.34986</td>\n",
       "      <td>474.813659</td>\n",
       "      <td>245.570654</td>\n",
       "      <td>689.108555</td>\n",
       "      <td>129.568864</td>\n",
       "      <td>33.485233</td>\n",
       "      <td>225.668431</td>\n",
       "      <td>49.94109</td>\n",
       "      <td>34.80302</td>\n",
       "      <td>119.042857</td>\n",
       "      <td>162.655698</td>\n",
       "    </tr>\n",
       "  </tbody>\n",
       "</table>\n",
       "</div>"
      ],
      "text/plain": [
       "           0           1          2           3           4           5   \\\n",
       "0  465.040569  153.560135  239.34986  474.813659  245.570654  689.108555   \n",
       "\n",
       "           6          7           8         9         10          11  \\\n",
       "0  129.568864  33.485233  225.668431  49.94109  34.80302  119.042857   \n",
       "\n",
       "           12  \n",
       "0  162.655698  "
      ]
     },
     "metadata": {},
     "execution_count": 28
    }
   ],
   "metadata": {}
  }
 ],
 "metadata": {
  "orig_nbformat": 4,
  "language_info": {
   "name": "python",
   "version": "3.8.8",
   "mimetype": "text/x-python",
   "codemirror_mode": {
    "name": "ipython",
    "version": 3
   },
   "pygments_lexer": "ipython3",
   "nbconvert_exporter": "python",
   "file_extension": ".py"
  },
  "kernelspec": {
   "name": "python3",
   "display_name": "Python 3.8.8 64-bit ('base': conda)"
  },
  "interpreter": {
   "hash": "4e7a58de4b7e505b0e82f0adcc21bb9621f61c2c1c0bdf66b0394a18a0c298a7"
  }
 },
 "nbformat": 4,
 "nbformat_minor": 2
}