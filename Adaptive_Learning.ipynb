{
 "cells": [
  {
   "cell_type": "code",
   "execution_count": 1,
   "source": [
    "from pandas import read_csv as rc\n",
    "from pandas import DataFrame as df\n",
    "from tqdm import tqdm\n",
    "import numpy as np\n",
    "import pandas as pd\n",
    "from statsmodels.tsa.stattools import adfuller\n",
    "from datetime import datetime\n",
    "import matplotlib.pyplot as plt\n",
    "from statsmodels.graphics.tsaplots import plot_acf\n",
    "from statsmodels.graphics.tsaplots import plot_pacf\n",
    "from pmdarima.arima import auto_arima\n",
    "from feature_calculations import *\n",
    "import statsmodels.api as sm\n",
    "from statsmodels.tsa.arima.model import ARIMA\n",
    "from scipy.stats import pearsonr"
   ],
   "outputs": [],
   "metadata": {}
  },
  {
   "cell_type": "code",
   "execution_count": 2,
   "source": [
    "df_dict = {}\n",
    "\n",
    "for asset_id in range(1, 2):\n",
    "    df_dict[f'Asset_{asset_id}'] = rc(f\"/Users/ryanlucas/Desktop/G-Research/Data/Asset-{asset_id}.csv\")\n"
   ],
   "outputs": [],
   "metadata": {}
  },
  {
   "cell_type": "code",
   "execution_count": 3,
   "source": [
    "features_dict = {}\n",
    "\n",
    "for asset_id in range(1,2):\n",
    "    features_dict[f'Asset_{asset_id}'] = rc(f\"/Users/ryanlucas/Desktop/G-Research/Data/Asset-{asset_id}_features.csv\")"
   ],
   "outputs": [],
   "metadata": {}
  },
  {
   "cell_type": "code",
   "execution_count": 4,
   "source": [
    "def train_and_forecast_AR1(data, ar_order= 1):\n",
    "\n",
    "    model = ARIMA(data, order=(\n",
    "        ar_order, 0, 0)).fit(method=\"yule_walker\")\n",
    "\n",
    "    forecasts = model.forecast(1)\n",
    "\n",
    "    return forecasts"
   ],
   "outputs": [],
   "metadata": {}
  },
  {
   "cell_type": "code",
   "execution_count": 5,
   "source": [
    "def ensemble_EN_AL(t, v0, functional_sets, forecast_df, p_norm_df):\n",
    "\n",
    "    # Step 1: Declare T_0.\n",
    "    T_0 = np.arange(t - v0 + 1, t+1)\n",
    "\n",
    "    minimising_model_count = create_value_dict(functional_sets)\n",
    "\n",
    "    # Re-write starts here\n",
    "    # Step 2.\n",
    "    for s in T_0:\n",
    "\n",
    "        model_with_min_loss = p_norm_df.loc[s].idxmin(axis=1)\n",
    "\n",
    "        minimising_model_count[model_with_min_loss] += 1\n",
    "\n",
    "    # Re-write finishes here\n",
    "    # Step 3: Calculate p^*_t as the empirical distribution of h^*_s.\n",
    "    weights = {model: count/len(T_0)\n",
    "               for model, count in minimising_model_count.items()}\n",
    "\n",
    "    # Step 4: Produce and save the ensembled forecast and its associated ensemble weights.\n",
    "    # Try removing loop and see if results are same. i.e. forecast_df.loc[t].\n",
    "    forecasts_candidates = [\n",
    "        np.array(forecast_df.loc[t, model]).transpose() for model in functional_sets]\n",
    "    ensembled_forecasts = np.dot(list(weights.values()), forecasts_candidates)\n",
    "\n",
    "    return weights, ensembled_forecasts"
   ],
   "outputs": [],
   "metadata": {}
  },
  {
   "cell_type": "code",
   "execution_count": null,
   "source": [
    "def create_value_dict(H):\n",
    "    H_tilda = {}\n",
    "    for model in H:\n",
    "        H_tilda.update({model: 0})\n",
    "    return H_tilda"
   ],
   "outputs": [],
   "metadata": {}
  },
  {
   "cell_type": "code",
   "execution_count": null,
   "source": [
    "def cross_validate(data, step_size, window_size, forecast_func = train_and_forecast_AR1):\n",
    "    forecasts = []\n",
    "    actual_values = []\n",
    "    for integer_position in tqdm(range(0, len(data)-window_size, step_size), position = 0, leave = True):\n",
    "                        \n",
    "        train_data = data.iloc[integer_position: integer_position+window_size]\n",
    "\n",
    "        forecasts.append(float(forecast_func(train_data)))\n",
    "        actual_value = data.iloc[integer_position+window_size+1]\n",
    "        actual_values.append(float(actual_value))\n",
    "\n",
    "    correlation, _ = pearsonr(forecasts, actual_values) \n",
    "    return correlation"
   ],
   "outputs": [],
   "metadata": {}
  },
  {
   "cell_type": "code",
   "execution_count": 32,
   "source": [
    "window_size_dict = {}\n",
    "\n",
    "for window_size in [2000, 3000, 5000, 10000, 20000, 40000, 100000, 500000]:\n",
    "    correlation = cross_validate(df_dict['Asset_1'][\"Target\"].fillna(method = 'bfill').fillna(method = 'ffill'),10000, window_size)\n",
    "    window_size_dict[window_size] = correlation[0]"
   ],
   "outputs": [
    {
     "output_type": "stream",
     "name": "stderr",
     "text": [
      "  0%|          | 0/196 [00:00<?, ?it/s]/Users/ryanlucas/opt/anaconda3/lib/python3.8/site-packages/statsmodels/tsa/arima/model.py:374: UserWarning: Provided `endog` series has been differenced to eliminate integration prior to parameter estimation by method \"yule_walker\".\n",
      "  warnings.warn('Provided `endog` series has been differenced'\n",
      "100%|██████████| 196/196 [00:07<00:00, 25.51it/s]\n",
      "100%|██████████| 196/196 [00:09<00:00, 20.26it/s]\n",
      "100%|██████████| 196/196 [00:14<00:00, 13.63it/s]\n",
      "100%|██████████| 195/195 [00:26<00:00,  7.29it/s]\n",
      "100%|██████████| 194/194 [00:48<00:00,  4.04it/s]\n",
      "100%|██████████| 192/192 [01:42<00:00,  1.87it/s]\n",
      "100%|██████████| 186/186 [03:58<00:00,  1.28s/it]\n",
      "100%|██████████| 146/146 [16:33<00:00,  6.81s/it]\n"
     ]
    }
   ],
   "metadata": {}
  },
  {
   "cell_type": "code",
   "execution_count": 45,
   "source": [
    "df(window_size_dict, index = [\"Correlation\"]).transpose()"
   ],
   "outputs": [
    {
     "output_type": "execute_result",
     "data": {
      "text/html": [
       "<div>\n",
       "<style scoped>\n",
       "    .dataframe tbody tr th:only-of-type {\n",
       "        vertical-align: middle;\n",
       "    }\n",
       "\n",
       "    .dataframe tbody tr th {\n",
       "        vertical-align: top;\n",
       "    }\n",
       "\n",
       "    .dataframe thead th {\n",
       "        text-align: right;\n",
       "    }\n",
       "</style>\n",
       "<table border=\"1\" class=\"dataframe\">\n",
       "  <thead>\n",
       "    <tr style=\"text-align: right;\">\n",
       "      <th></th>\n",
       "      <th>Correlation</th>\n",
       "    </tr>\n",
       "  </thead>\n",
       "  <tbody>\n",
       "    <tr>\n",
       "      <th>2000</th>\n",
       "      <td>0.624005</td>\n",
       "    </tr>\n",
       "    <tr>\n",
       "      <th>3000</th>\n",
       "      <td>0.692864</td>\n",
       "    </tr>\n",
       "    <tr>\n",
       "      <th>5000</th>\n",
       "      <td>0.750441</td>\n",
       "    </tr>\n",
       "    <tr>\n",
       "      <th>10000</th>\n",
       "      <td>0.775504</td>\n",
       "    </tr>\n",
       "    <tr>\n",
       "      <th>20000</th>\n",
       "      <td>0.774815</td>\n",
       "    </tr>\n",
       "    <tr>\n",
       "      <th>40000</th>\n",
       "      <td>0.777776</td>\n",
       "    </tr>\n",
       "    <tr>\n",
       "      <th>100000</th>\n",
       "      <td>0.783638</td>\n",
       "    </tr>\n",
       "    <tr>\n",
       "      <th>500000</th>\n",
       "      <td>0.815182</td>\n",
       "    </tr>\n",
       "  </tbody>\n",
       "</table>\n",
       "</div>"
      ],
      "text/plain": [
       "        Correlation\n",
       "2000       0.624005\n",
       "3000       0.692864\n",
       "5000       0.750441\n",
       "10000      0.775504\n",
       "20000      0.774815\n",
       "40000      0.777776\n",
       "100000     0.783638\n",
       "500000     0.815182"
      ]
     },
     "metadata": {},
     "execution_count": 45
    }
   ],
   "metadata": {}
  }
 ],
 "metadata": {
  "orig_nbformat": 4,
  "language_info": {
   "name": "python",
   "version": "3.8.8",
   "mimetype": "text/x-python",
   "codemirror_mode": {
    "name": "ipython",
    "version": 3
   },
   "pygments_lexer": "ipython3",
   "nbconvert_exporter": "python",
   "file_extension": ".py"
  },
  "kernelspec": {
   "name": "python3",
   "display_name": "Python 3.8.8 64-bit ('base': conda)"
  },
  "interpreter": {
   "hash": "4e7a58de4b7e505b0e82f0adcc21bb9621f61c2c1c0bdf66b0394a18a0c298a7"
  }
 },
 "nbformat": 4,
 "nbformat_minor": 2
}