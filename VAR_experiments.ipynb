{
 "cells": [
  {
   "cell_type": "code",
   "execution_count": 22,
   "source": [
    "from pandas import read_csv as rc\n",
    "from pandas import DataFrame as df\n",
    "from tqdm import tqdm\n",
    "import numpy as np\n",
    "import pandas as pd\n",
    "from statsmodels.tsa.stattools import adfuller\n",
    "from datetime import datetime\n",
    "import matplotlib.pyplot as plt\n",
    "from statsmodels.graphics.tsaplots import plot_acf\n",
    "from statsmodels.graphics.tsaplots import plot_pacf\n",
    "from pmdarima.arima import auto_arima\n",
    "from feature_calculations import *\n",
    "import statsmodels.api as sm\n",
    "from statsmodels.tsa.arima.model import ARIMA\n",
    "from scipy.stats import pearsonr\n",
    "from statsmodels.tsa.api import VAR"
   ],
   "outputs": [],
   "metadata": {}
  },
  {
   "cell_type": "code",
   "execution_count": 24,
   "source": [
    "def train_and_forecast_VAR(data,ar_order = 1, k = 1):\n",
    "\n",
    "    model = VAR(data).fit(ar_order)\n",
    "\n",
    "    forecasts = model.forecast(\n",
    "        y=data, steps=k)[:, 0]\n",
    "\n",
    "    return forecasts[::-1]"
   ],
   "outputs": [],
   "metadata": {}
  },
  {
   "cell_type": "code",
   "execution_count": 6,
   "source": [
    "df_dict = {}\n",
    "\n",
    "for asset_id in range(1, 2):\n",
    "    df_dict[f'Asset_{asset_id}'] = rc(f\"/Users/ryanlucas/Desktop/G-Research/Data/Asset-{asset_id}.csv\")\n"
   ],
   "outputs": [],
   "metadata": {}
  },
  {
   "cell_type": "code",
   "execution_count": 5,
   "source": [
    "features_dict = {}\n",
    "\n",
    "for asset_id in range(1,2):\n",
    "    features_dict[f'Asset_{asset_id}'] = rc(f\"/Users/ryanlucas/Desktop/G-Research/Data/Asset-{asset_id}_features.csv\")"
   ],
   "outputs": [],
   "metadata": {}
  },
  {
   "cell_type": "code",
   "execution_count": 7,
   "source": [
    "features_dict['Asset_1'] = features_dict['Asset_1'].iloc[:, 4:]"
   ],
   "outputs": [],
   "metadata": {}
  },
  {
   "cell_type": "code",
   "execution_count": 8,
   "source": [
    "def train_and_forecast_AR1(data, ar_order= 1):\n",
    "\n",
    "    model = ARIMA(data, order=(\n",
    "        ar_order, 1, 0)).fit(method=\"yule_walker\")\n",
    "\n",
    "    forecasts = model.forecast(1)\n",
    "\n",
    "    return forecasts\n",
    "    "
   ],
   "outputs": [],
   "metadata": {}
  },
  {
   "cell_type": "code",
   "execution_count": 18,
   "source": [
    "def cross_validate_var(data, step_size, window_size, forecast_func = train_and_forecast_VAR):\n",
    "    forecasts = []\n",
    "    actual_values = []\n",
    "    for integer_position in tqdm(range(0, len(data)-window_size, step_size), position = 0, leave = True):\n",
    "                        \n",
    "        train_data = data[integer_position: integer_position+window_size, :]\n",
    "\n",
    "        forecasts.append(float(forecast_func(train_data)))\n",
    "        actual_value = data[integer_position+window_size+1, 0]\n",
    "        actual_values.append(float(actual_value))\n",
    "\n",
    "    correlation, _ = pearsonr(forecasts, actual_values) \n",
    "    return correlation"
   ],
   "outputs": [],
   "metadata": {}
  },
  {
   "cell_type": "code",
   "execution_count": 26,
   "source": [
    "window_size_dict = {}\n",
    "\n",
    "for window_size in [40000, 100000, 500000]:\n",
    "    exog = features_dict[\"Asset_1\"]['Upper Shadow'], features_dict[\"Asset_1\"]['Lower Shadow']\n",
    "    endog = df_dict['Asset_1'][\"Target\"].fillna(method = 'bfill').fillna(method = 'ffill')\n",
    "    var_system = np.column_stack([endog, exog[0], exog[1]])\n",
    "    correlation = cross_validate_var(var_system,10000, window_size, forecast_func=train_and_forecast_VAR)\n",
    "    window_size_dict[window_size] = correlation"
   ],
   "outputs": [
    {
     "output_type": "stream",
     "name": "stderr",
     "text": [
      "100%|██████████| 192/192 [00:20<00:00,  9.46it/s]\n",
      "100%|██████████| 186/186 [00:41<00:00,  4.49it/s]\n",
      "100%|██████████| 146/146 [02:30<00:00,  1.03s/it]\n"
     ]
    }
   ],
   "metadata": {}
  },
  {
   "cell_type": "code",
   "execution_count": null,
   "source": [
    "window_size_dict"
   ],
   "outputs": [
    {
     "output_type": "execute_result",
     "data": {
      "text/plain": [
       "{2000: (0.6240050604839891, 1.5083860668869513e-22),\n",
       " 3000: (0.6928640850258662, 2.300779302557752e-29),\n",
       " 5000: (0.7504413460938983, 9.806627145177511e-37),\n",
       " 10000: (0.7755041211877594, 2.083058178585332e-40),\n",
       " 20000: (0.7748152733083014, 4.280439587183226e-40),\n",
       " 40000: (0.7777761088618098, 3.5736703630084055e-40),\n",
       " 100000: (0.7836379688040276, 6.764631040792074e-40),\n",
       " 500000: (0.8151816109575423, 5.716896011270598e-36)}"
      ]
     },
     "metadata": {},
     "execution_count": 31
    }
   ],
   "metadata": {}
  },
  {
   "cell_type": "code",
   "execution_count": 58,
   "source": [
    "features_dict"
   ],
   "outputs": [
    {
     "output_type": "execute_result",
     "data": {
      "text/plain": [
       "{'Asset_1':          Unnamed: 0  Unnamed: 0.1  Unnamed: 0.1.1  Unnamed: 0.1.1.1  \\\n",
       " 0                 0             0               0                 0   \n",
       " 1                 1             1               1                 1   \n",
       " 2                 2             2               2                 2   \n",
       " 3                 3             3               3                 3   \n",
       " 4                 4             4               4                 4   \n",
       " ...             ...           ...             ...               ...   \n",
       " 1956277     1956277       1956277         1956277           1956277   \n",
       " 1956278     1956278       1956278         1956278           1956278   \n",
       " 1956279     1956279       1956279         1956279           1956279   \n",
       " 1956280     1956280       1956280         1956280           1956280   \n",
       " 1956281     1956281       1956281         1956281           1956281   \n",
       " \n",
       "          VWAP_Delta_5  VWAP_Delta_1  Upper Shadow  Lower Shadow  \\\n",
       " 0           -0.008725      0.000961    163.624000    169.084000   \n",
       " 1           -0.008725      0.000961    217.264000    148.102000   \n",
       " 2           -0.008725      0.002481    176.500000    200.314000   \n",
       " 3           -0.008725      0.001629    196.488000    191.760000   \n",
       " 4           -0.008725      0.003489    189.900000    170.474000   \n",
       " ...               ...           ...           ...           ...   \n",
       " 1956277      0.000074      0.001123     18.070849     20.752857   \n",
       " 1956278     -0.001954      0.001303     27.802857     19.845714   \n",
       " 1956279     -0.002773      0.000828     28.114286     29.820000   \n",
       " 1956280     -0.001061      0.002137     24.882857     20.912802   \n",
       " 1956281      0.000643      0.001760     38.548750     40.865000   \n",
       " \n",
       "          Delta_1d_roll_std  Delta_1w_roll_std  ...          High       Low  \\\n",
       " 0                -0.273232           0.373312  ...  14013.800000  13666.11   \n",
       " 1                -0.273232           0.373312  ...  14052.300000  13680.00   \n",
       " 2                -0.273232           0.373312  ...  14000.400000  13601.00   \n",
       " 3                -0.273232           0.373312  ...  13999.000000  13576.28   \n",
       " 4                -0.273232           0.373312  ...  13955.900000  13554.44   \n",
       " ...                    ...                ...  ...           ...       ...   \n",
       " 1956277          -1.097324           0.854065  ...  43001.850849  42878.26   \n",
       " 1956278          -1.056826           0.864784  ...  42932.000000  42840.16   \n",
       " 1956279          -1.034566           0.879828  ...  42887.500000  42797.20   \n",
       " 1956280          -1.274775           0.805712  ...  43042.160000  42818.10   \n",
       " 1956281          -1.332811           0.813473  ...  43048.510000  42961.64   \n",
       " \n",
       "                    MA           EMA         MOM       SOk       SOd  \\\n",
       " 0                 NaN           NaN         NaN       NaN       NaN   \n",
       " 1                 NaN           NaN         NaN       NaN       NaN   \n",
       " 2                 NaN           NaN         NaN       NaN       NaN   \n",
       " 3                 NaN           NaN         NaN       NaN       NaN   \n",
       " 4                 NaN           NaN         NaN  0.342414       NaN   \n",
       " ...               ...           ...         ...       ...       ...   \n",
       " 1956277  42845.631512  42877.454350  117.042286  0.151791  0.623051   \n",
       " 1956278  42852.592393  42875.273270  104.413214  0.117646  0.496700   \n",
       " 1956279  42859.911441  42869.241611  109.785714  0.140893  0.407748   \n",
       " 1956280  42883.916417  42887.746053  360.074643  0.898421  0.530416   \n",
       " 1956281  42905.501988  42902.090921  323.783571  0.816939  0.602047   \n",
       " \n",
       "               MACD   MACDsign   MACDdiff  \n",
       " 0              NaN        NaN        NaN  \n",
       " 1              NaN        NaN        NaN  \n",
       " 2              NaN        NaN        NaN  \n",
       " 3              NaN        NaN        NaN  \n",
       " 4              NaN        NaN        NaN  \n",
       " ...            ...        ...        ...  \n",
       " 1956277  32.455558  38.521161  -6.065602  \n",
       " 1956278  14.637470  33.744423 -19.106953  \n",
       " 1956279  -0.966443  26.802250 -27.768692  \n",
       " 1956280  19.407744  25.323349  -5.915604  \n",
       " 1956281  27.106507  25.679980   1.426527  \n",
       " \n",
       " [1956282 rows x 23 columns]}"
      ]
     },
     "metadata": {},
     "execution_count": 58
    }
   ],
   "metadata": {}
  }
 ],
 "metadata": {
  "orig_nbformat": 4,
  "language_info": {
   "name": "python",
   "version": "3.8.8",
   "mimetype": "text/x-python",
   "codemirror_mode": {
    "name": "ipython",
    "version": 3
   },
   "pygments_lexer": "ipython3",
   "nbconvert_exporter": "python",
   "file_extension": ".py"
  },
  "kernelspec": {
   "name": "python3",
   "display_name": "Python 3.8.8 64-bit ('base': conda)"
  },
  "interpreter": {
   "hash": "4e7a58de4b7e505b0e82f0adcc21bb9621f61c2c1c0bdf66b0394a18a0c298a7"
  }
 },
 "nbformat": 4,
 "nbformat_minor": 2
}